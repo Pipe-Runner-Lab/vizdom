{
 "cells": [
  {
   "cell_type": "code",
   "execution_count": 1,
   "metadata": {},
   "outputs": [],
   "source": [
    "import pandas as pd\n",
    "import os\n",
    "path = os.getcwd()\n",
    "os.chdir(os.path.join(path, 'e:/school/dpav/vizdom/src'))"
   ]
  },
  {
   "cell_type": "code",
   "execution_count": 2,
   "metadata": {},
   "outputs": [],
   "source": [
    "from connection.db_connector import DBConnection\n",
    "from crawlers.url_crawlers import get_our_world_in_data\n",
    "from filters.base_filters import fill_nans_by_interpolation, keep_columns_by_name\n",
    "from data_engine.base_engine import compute_rolling_mean\n",
    "\n",
    "raw_data = get_our_world_in_data()\n",
    "filtered_data = raw_data[raw_data['iso_code'] == 'NOR']\n",
    "filtered_data = keep_columns_by_name(filtered_data, [\"iso_code\", \"date\", \"new_cases\", \"total_cases\"])\n",
    "filtered_data.set_index('date', inplace=True)\n",
    "filtered_data = fill_nans_by_interpolation(filtered_data)\n"
   ]
  }
 ],
 "metadata": {
  "kernelspec": {
   "display_name": "Python 3.10.6 ('vizdom')",
   "language": "python",
   "name": "python3"
  },
  "language_info": {
   "codemirror_mode": {
    "name": "ipython",
    "version": 3
   },
   "file_extension": ".py",
   "mimetype": "text/x-python",
   "name": "python",
   "nbconvert_exporter": "python",
   "pygments_lexer": "ipython3",
   "version": "3.10.6"
  },
  "orig_nbformat": 4,
  "vscode": {
   "interpreter": {
    "hash": "ac89012e8bb3685a3c8181141826498473b833c565f12d25a1b4e17a2eeb2447"
   }
  }
 },
 "nbformat": 4,
 "nbformat_minor": 2
}
