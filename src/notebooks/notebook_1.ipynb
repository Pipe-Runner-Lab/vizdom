{
 "cells": [
  {
   "cell_type": "code",
   "execution_count": 7,
   "metadata": {},
   "outputs": [],
   "source": [
    "import pandas as pd\n",
    "import os\n",
    "path = os.getcwd()\n",
    "os.chdir(os.path.join(path, 'e:/school/dpav/vizdom/src'))\n",
    "from crawlers.url_crawlers import get_our_world_in_data\n",
    "from filters.base_filters import keep_columns_by_name, drop_rows_with_OWID, country_based_interpolation\n",
    "import plotly.express as px"
   ]
  },
  {
   "cell_type": "code",
   "execution_count": 8,
   "metadata": {},
   "outputs": [],
   "source": [
    "raw_data = get_our_world_in_data()\n",
    "filtered_data = drop_rows_with_OWID(raw_data)\n"
   ]
  },
  {
   "cell_type": "code",
   "execution_count": 11,
   "metadata": {},
   "outputs": [],
   "source": [
    "filtered_data = country_based_interpolation(filtered_data)\n",
    "isna = filtered_data.isna()\n"
   ]
  },
  {
   "cell_type": "code",
   "execution_count": 10,
   "metadata": {},
   "outputs": [
    {
     "ename": "ValueError",
     "evalue": "\n    Invalid value of type 'builtins.str' received for the 'xaxis' property of bar\n        Received value: 'X1'\n\n    The 'xaxis' property is an identifier of a particular\n    subplot, of type 'x', that may be specified as the string 'x'\n    optionally followed by an integer >= 1\n    (e.g. 'x', 'x1', 'x2', 'x3', etc.)\n        ",
     "output_type": "error",
     "traceback": [
      "\u001b[1;31m---------------------------------------------------------------------------\u001b[0m",
      "\u001b[1;31mValueError\u001b[0m                                Traceback (most recent call last)",
      "Cell \u001b[1;32mIn [10], line 11\u001b[0m\n\u001b[0;32m      1\u001b[0m \u001b[39mimport\u001b[39;00m \u001b[39mplotly\u001b[39;00m\u001b[39m.\u001b[39;00m\u001b[39mgraph_objs\u001b[39;00m \u001b[39mas\u001b[39;00m \u001b[39mgo\u001b[39;00m\n\u001b[0;32m      3\u001b[0m trace \u001b[39m=\u001b[39m go\u001b[39m.\u001b[39mTable(\n\u001b[0;32m      4\u001b[0m     header\u001b[39m=\u001b[39m\u001b[39mdict\u001b[39m(values\u001b[39m=\u001b[39m[\u001b[39m'\u001b[39m\u001b[39mA Scores\u001b[39m\u001b[39m'\u001b[39m, \u001b[39m'\u001b[39m\u001b[39mB Scores\u001b[39m\u001b[39m'\u001b[39m]),\n\u001b[0;32m      5\u001b[0m     cells\u001b[39m=\u001b[39m\u001b[39mdict\u001b[39m(values\u001b[39m=\u001b[39m[[\u001b[39m100\u001b[39m, \u001b[39m90\u001b[39m, \u001b[39m80\u001b[39m, \u001b[39m90\u001b[39m],\n\u001b[1;32m   (...)\u001b[0m\n\u001b[0;32m      8\u001b[0m                 y\u001b[39m=\u001b[39m[\u001b[39m0\u001b[39m, \u001b[39m0.3\u001b[39m])\n\u001b[0;32m      9\u001b[0m )\n\u001b[1;32m---> 11\u001b[0m trace1 \u001b[39m=\u001b[39m go\u001b[39m.\u001b[39mBar(\n\u001b[0;32m     12\u001b[0m     x\u001b[39m=\u001b[39m[\u001b[39m1\u001b[39m, \u001b[39m2\u001b[39m, \u001b[39m3\u001b[39m],\n\u001b[0;32m     13\u001b[0m     y\u001b[39m=\u001b[39m[\u001b[39m4\u001b[39m, \u001b[39m5\u001b[39m, \u001b[39m6\u001b[39m],\n\u001b[0;32m     14\u001b[0m     xaxis\u001b[39m=\u001b[39m\u001b[39m\"\u001b[39m\u001b[39mX1\u001b[39m\u001b[39m\"\u001b[39m,\n\u001b[0;32m     15\u001b[0m     yaxis\u001b[39m=\u001b[39m\u001b[39m\"\u001b[39m\u001b[39mY1\u001b[39m\u001b[39m\"\u001b[39m\n\u001b[0;32m     16\u001b[0m )\n\u001b[0;32m     19\u001b[0m layout \u001b[39m=\u001b[39m \u001b[39mdict\u001b[39m(xaxis1\u001b[39m=\u001b[39m\u001b[39mdict\u001b[39m( \u001b[39mdict\u001b[39m(domain\u001b[39m=\u001b[39m[\u001b[39m0\u001b[39m, \u001b[39m1\u001b[39m], anchor\u001b[39m=\u001b[39m\u001b[39m'\u001b[39m\u001b[39my1\u001b[39m\u001b[39m'\u001b[39m)),\n\u001b[0;32m     20\u001b[0m              yaxis1\u001b[39m=\u001b[39m\u001b[39mdict\u001b[39m( \u001b[39mdict\u001b[39m(domain\u001b[39m=\u001b[39m[\u001b[39m0.38\u001b[39m, \u001b[39m1\u001b[39m], anchor\u001b[39m=\u001b[39m\u001b[39m'\u001b[39m\u001b[39mx1\u001b[39m\u001b[39m'\u001b[39m)))\n\u001b[0;32m     24\u001b[0m go\u001b[39m.\u001b[39mFigure(data \u001b[39m=\u001b[39m [trace,trace1], layout \u001b[39m=\u001b[39m layout)\n",
      "File \u001b[1;32mc:\\Users\\abull\\anaconda3\\envs\\vizdom\\lib\\site-packages\\plotly\\graph_objs\\_bar.py:3182\u001b[0m, in \u001b[0;36mBar.__init__\u001b[1;34m(self, arg, alignmentgroup, base, basesrc, cliponaxis, constraintext, customdata, customdatasrc, dx, dy, error_x, error_y, hoverinfo, hoverinfosrc, hoverlabel, hovertemplate, hovertemplatesrc, hovertext, hovertextsrc, ids, idssrc, insidetextanchor, insidetextfont, legendgroup, legendgrouptitle, legendrank, marker, meta, metasrc, name, offset, offsetgroup, offsetsrc, opacity, orientation, outsidetextfont, selected, selectedpoints, showlegend, stream, text, textangle, textfont, textposition, textpositionsrc, textsrc, texttemplate, texttemplatesrc, uid, uirevision, unselected, visible, width, widthsrc, x, x0, xaxis, xcalendar, xhoverformat, xperiod, xperiod0, xperiodalignment, xsrc, y, y0, yaxis, ycalendar, yhoverformat, yperiod, yperiod0, yperiodalignment, ysrc, **kwargs)\u001b[0m\n\u001b[0;32m   3180\u001b[0m _v \u001b[39m=\u001b[39m xaxis \u001b[39mif\u001b[39;00m xaxis \u001b[39mis\u001b[39;00m \u001b[39mnot\u001b[39;00m \u001b[39mNone\u001b[39;00m \u001b[39melse\u001b[39;00m _v\n\u001b[0;32m   3181\u001b[0m \u001b[39mif\u001b[39;00m _v \u001b[39mis\u001b[39;00m \u001b[39mnot\u001b[39;00m \u001b[39mNone\u001b[39;00m:\n\u001b[1;32m-> 3182\u001b[0m     \u001b[39mself\u001b[39;49m[\u001b[39m\"\u001b[39;49m\u001b[39mxaxis\u001b[39;49m\u001b[39m\"\u001b[39;49m] \u001b[39m=\u001b[39m _v\n\u001b[0;32m   3183\u001b[0m _v \u001b[39m=\u001b[39m arg\u001b[39m.\u001b[39mpop(\u001b[39m\"\u001b[39m\u001b[39mxcalendar\u001b[39m\u001b[39m\"\u001b[39m, \u001b[39mNone\u001b[39;00m)\n\u001b[0;32m   3184\u001b[0m _v \u001b[39m=\u001b[39m xcalendar \u001b[39mif\u001b[39;00m xcalendar \u001b[39mis\u001b[39;00m \u001b[39mnot\u001b[39;00m \u001b[39mNone\u001b[39;00m \u001b[39melse\u001b[39;00m _v\n",
      "File \u001b[1;32mc:\\Users\\abull\\anaconda3\\envs\\vizdom\\lib\\site-packages\\plotly\\basedatatypes.py:4859\u001b[0m, in \u001b[0;36mBasePlotlyType.__setitem__\u001b[1;34m(self, prop, value)\u001b[0m\n\u001b[0;32m   4855\u001b[0m         \u001b[39mself\u001b[39m\u001b[39m.\u001b[39m_set_array_prop(prop, value)\n\u001b[0;32m   4857\u001b[0m     \u001b[39m# ### Handle simple property ###\u001b[39;00m\n\u001b[0;32m   4858\u001b[0m     \u001b[39melse\u001b[39;00m:\n\u001b[1;32m-> 4859\u001b[0m         \u001b[39mself\u001b[39;49m\u001b[39m.\u001b[39;49m_set_prop(prop, value)\n\u001b[0;32m   4860\u001b[0m \u001b[39melse\u001b[39;00m:\n\u001b[0;32m   4861\u001b[0m     \u001b[39m# Make sure properties dict is initialized\u001b[39;00m\n\u001b[0;32m   4862\u001b[0m     \u001b[39mself\u001b[39m\u001b[39m.\u001b[39m_init_props()\n",
      "File \u001b[1;32mc:\\Users\\abull\\anaconda3\\envs\\vizdom\\lib\\site-packages\\plotly\\basedatatypes.py:5203\u001b[0m, in \u001b[0;36mBasePlotlyType._set_prop\u001b[1;34m(self, prop, val)\u001b[0m\n\u001b[0;32m   5201\u001b[0m         \u001b[39mreturn\u001b[39;00m\n\u001b[0;32m   5202\u001b[0m     \u001b[39melse\u001b[39;00m:\n\u001b[1;32m-> 5203\u001b[0m         \u001b[39mraise\u001b[39;00m err\n\u001b[0;32m   5205\u001b[0m \u001b[39m# val is None\u001b[39;00m\n\u001b[0;32m   5206\u001b[0m \u001b[39m# -----------\u001b[39;00m\n\u001b[0;32m   5207\u001b[0m \u001b[39mif\u001b[39;00m val \u001b[39mis\u001b[39;00m \u001b[39mNone\u001b[39;00m:\n\u001b[0;32m   5208\u001b[0m     \u001b[39m# Check if we should send null update\u001b[39;00m\n",
      "File \u001b[1;32mc:\\Users\\abull\\anaconda3\\envs\\vizdom\\lib\\site-packages\\plotly\\basedatatypes.py:5198\u001b[0m, in \u001b[0;36mBasePlotlyType._set_prop\u001b[1;34m(self, prop, val)\u001b[0m\n\u001b[0;32m   5195\u001b[0m validator \u001b[39m=\u001b[39m \u001b[39mself\u001b[39m\u001b[39m.\u001b[39m_get_validator(prop)\n\u001b[0;32m   5197\u001b[0m \u001b[39mtry\u001b[39;00m:\n\u001b[1;32m-> 5198\u001b[0m     val \u001b[39m=\u001b[39m validator\u001b[39m.\u001b[39;49mvalidate_coerce(val)\n\u001b[0;32m   5199\u001b[0m \u001b[39mexcept\u001b[39;00m \u001b[39mValueError\u001b[39;00m \u001b[39mas\u001b[39;00m err:\n\u001b[0;32m   5200\u001b[0m     \u001b[39mif\u001b[39;00m \u001b[39mself\u001b[39m\u001b[39m.\u001b[39m_skip_invalid:\n",
      "File \u001b[1;32mc:\\Users\\abull\\anaconda3\\envs\\vizdom\\lib\\site-packages\\_plotly_utils\\basevalidators.py:1765\u001b[0m, in \u001b[0;36mSubplotidValidator.validate_coerce\u001b[1;34m(self, v)\u001b[0m\n\u001b[0;32m   1762\u001b[0m             is_valid \u001b[39m=\u001b[39m \u001b[39mTrue\u001b[39;00m\n\u001b[0;32m   1764\u001b[0m     \u001b[39mif\u001b[39;00m \u001b[39mnot\u001b[39;00m is_valid:\n\u001b[1;32m-> 1765\u001b[0m         \u001b[39mself\u001b[39;49m\u001b[39m.\u001b[39;49mraise_invalid_val(v)\n\u001b[0;32m   1766\u001b[0m \u001b[39mreturn\u001b[39;00m v\n",
      "File \u001b[1;32mc:\\Users\\abull\\anaconda3\\envs\\vizdom\\lib\\site-packages\\_plotly_utils\\basevalidators.py:288\u001b[0m, in \u001b[0;36mBaseValidator.raise_invalid_val\u001b[1;34m(self, v, inds)\u001b[0m\n\u001b[0;32m    285\u001b[0m             \u001b[39mfor\u001b[39;00m i \u001b[39min\u001b[39;00m inds:\n\u001b[0;32m    286\u001b[0m                 name \u001b[39m+\u001b[39m\u001b[39m=\u001b[39m \u001b[39m\"\u001b[39m\u001b[39m[\u001b[39m\u001b[39m\"\u001b[39m \u001b[39m+\u001b[39m \u001b[39mstr\u001b[39m(i) \u001b[39m+\u001b[39m \u001b[39m\"\u001b[39m\u001b[39m]\u001b[39m\u001b[39m\"\u001b[39m\n\u001b[1;32m--> 288\u001b[0m         \u001b[39mraise\u001b[39;00m \u001b[39mValueError\u001b[39;00m(\n\u001b[0;32m    289\u001b[0m             \u001b[39m\"\"\"\u001b[39;00m\n\u001b[0;32m    290\u001b[0m \u001b[39m    Invalid value of type {typ} received for the '{name}' property of {pname}\u001b[39;00m\n\u001b[0;32m    291\u001b[0m \u001b[39m        Received value: {v}\u001b[39;00m\n\u001b[0;32m    292\u001b[0m \n\u001b[0;32m    293\u001b[0m \u001b[39m{valid_clr_desc}\"\"\"\u001b[39;00m\u001b[39m.\u001b[39mformat(\n\u001b[0;32m    294\u001b[0m                 name\u001b[39m=\u001b[39mname,\n\u001b[0;32m    295\u001b[0m                 pname\u001b[39m=\u001b[39m\u001b[39mself\u001b[39m\u001b[39m.\u001b[39mparent_name,\n\u001b[0;32m    296\u001b[0m                 typ\u001b[39m=\u001b[39mtype_str(v),\n\u001b[0;32m    297\u001b[0m                 v\u001b[39m=\u001b[39m\u001b[39mrepr\u001b[39m(v),\n\u001b[0;32m    298\u001b[0m                 valid_clr_desc\u001b[39m=\u001b[39m\u001b[39mself\u001b[39m\u001b[39m.\u001b[39mdescription(),\n\u001b[0;32m    299\u001b[0m             )\n\u001b[0;32m    300\u001b[0m         )\n",
      "\u001b[1;31mValueError\u001b[0m: \n    Invalid value of type 'builtins.str' received for the 'xaxis' property of bar\n        Received value: 'X1'\n\n    The 'xaxis' property is an identifier of a particular\n    subplot, of type 'x', that may be specified as the string 'x'\n    optionally followed by an integer >= 1\n    (e.g. 'x', 'x1', 'x2', 'x3', etc.)\n        "
     ]
    }
   ],
   "source": [
    "import plotly.graph_objs as go\n",
    "\n",
    "trace = go.Table(\n",
    "    header=dict(values=['A Scores', 'B Scores']),\n",
    "    cells=dict(values=[[100, 90, 80, 90],\n",
    "                       [95, 85, 75, 95]]),\n",
    "    domain=dict(x=[0, 1],\n",
    "                y=[0, 0.3])\n",
    ")\n",
    "\n",
    "trace1 = go.Bar(\n",
    "    x=[1, 2, 3],\n",
    "    y=[4, 5, 6]\n",
    "\n",
    ")\n",
    "\n",
    "\n",
    "layout = dict(xaxis1=dict( dict(domain=[0, 1], anchor='y1')),\n",
    "             yaxis1=dict( dict(domain=[0.38, 1], anchor='x1')))\n",
    "\n",
    "\n",
    "\n",
    "go.Figure(data = [trace,trace1], layout = layout)\n"
   ]
  }
 ],
 "metadata": {
  "kernelspec": {
   "display_name": "Python 3.10.8 ('vizdom')",
   "language": "python",
   "name": "python3"
  },
  "language_info": {
   "codemirror_mode": {
    "name": "ipython",
    "version": 3
   },
   "file_extension": ".py",
   "mimetype": "text/x-python",
   "name": "python",
   "nbconvert_exporter": "python",
   "pygments_lexer": "ipython3",
   "version": "3.10.8"
  },
  "orig_nbformat": 4,
  "vscode": {
   "interpreter": {
    "hash": "ac89012e8bb3685a3c8181141826498473b833c565f12d25a1b4e17a2eeb2447"
   }
  }
 },
 "nbformat": 4,
 "nbformat_minor": 2
}
