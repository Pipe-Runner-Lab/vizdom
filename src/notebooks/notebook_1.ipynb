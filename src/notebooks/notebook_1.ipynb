{
 "cells": [
  {
   "cell_type": "code",
   "execution_count": 1,
   "metadata": {},
   "outputs": [],
   "source": [
    "import os\n",
    "import numpy as np\n",
    "import pandas as pd\n",
    "from sklearn import preprocessing, svm\n",
    "from sklearn.linear_model import LinearRegression\n",
    "import matplotlib.pyplot as plt\n",
    "from matplotlib import style\n",
    "import datetime as dt\n",
    "from sklearn.preprocessing import PolynomialFeatures\n",
    "from sklearn.pipeline import Pipeline\n",
    "from sklearn.preprocessing import StandardScaler\n",
    "from sklearn.model_selection import train_test_split\n",
    "from sklearn.linear_model import LassoCV, Lasso, Ridge, ElasticNet, LinearRegression\n",
    "from sklearn.model_selection import RepeatedKFold\n",
    "path = os.getcwd()\n",
    "os.chdir(os.path.join(path, 'e:/school/dpav/vizdom/src'))\n",
    "from crawlers.url_crawlers import get_our_world_in_data, get_mask_data, get_our_world_in_data_attributes\n",
    "from filters.base_filters import country_based_interpolation, keep_columns_by_name, drop_rows_with_OWID, drop_rows_with_occurrence_number\n",
    "# from data_engine.base_engine import combine_data_with_mask"
   ]
  },
  {
   "cell_type": "code",
   "execution_count": 10,
   "metadata": {},
   "outputs": [],
   "source": [
    "def combine_data_with_mask(data_1, data_2):\n",
    "    combined_data = pd.DataFrame()\n",
    "    unique_countries = data_1.location.unique()\n",
    "    data_1 = data_1.sort_values(by=[\"date\"]).set_index(\"date\")\n",
    "    data_2 = data_2.sort_values(by=[\"date\"]).set_index(\"date\")  \n",
    "\n",
    "    for country in unique_countries:\n",
    "        data_covid = data_1[data_1.location == country]\n",
    "        data_mask = data_2[data_2.location_name == country]\n",
    "        \n",
    "        if data_mask.index.min() != pd.NaT and (data_covid.index.min() < data_mask.index.min()):\n",
    "            country = data_mask.location_name.unique()\n",
    "            iso_code = data_mask.CountryCode.unique()\n",
    "            location_id = data_mask.location_id.unique()\n",
    "            date_range = pd.date_range(data_covid.index.min(), data_mask.index.max())\n",
    "            data_mask = data_mask.resample('D').asfreq().reindex(date_range)\n",
    "            data_mask[['location_id']] = data_mask[['location_id']].fillna(f'{location_id[0]}')\n",
    "            data_mask[['CountryCode']] = data_mask[['CountryCode']].fillna(f'{iso_code[0]}')\n",
    "            data_mask[['location_name']] = data_mask[['location_name']].fillna(f'{country[0]}')\n",
    "            data_mask = data_mask.fillna(0)\n",
    "            data_covid['mask_use_obs'] = data_mask['mask_use_obs']\n",
    "            data_covid['mask_use_mean'] = data_mask['mask_use_mean']\n",
    "        else:\n",
    "            data_mask = data_mask.groupby(data_mask.index).first()  \n",
    "            data_covid['mask_use_obs'] = data_mask['mask_use_obs']\n",
    "            data_covid['mask_use_mean'] = data_mask['mask_use_mean']\n",
    "            data_covid = data_covid.fillna(0)\n",
    "        combined_data = pd.concat([combined_data, data_covid])\n",
    "    return combined_data"
   ]
  },
  {
   "cell_type": "code",
   "execution_count": 11,
   "metadata": {},
   "outputs": [],
   "source": [
    "\n",
    "attributes = get_our_world_in_data_attributes.keys()\n",
    "df_1 = get_our_world_in_data()\n",
    "df_2 = get_mask_data()"
   ]
  },
  {
   "cell_type": "code",
   "execution_count": 12,
   "metadata": {},
   "outputs": [],
   "source": [
    "filtered_data = drop_rows_with_OWID(df_1)\n",
    "filtered_data = drop_rows_with_occurrence_number(filtered_data, 1)\n",
    "interpolated_data = country_based_interpolation(filtered_data)\n",
    "data_1 = interpolated_data\n",
    "data_2 = df_2\n",
    "\n",
    "# filtered_data = keep_columns_by_name(filtered_data, attributes)\n"
   ]
  },
  {
   "cell_type": "code",
   "execution_count": 13,
   "metadata": {},
   "outputs": [
    {
     "name": "stdout",
     "output_type": "stream",
     "text": [
      "            location_id location_name  mask_use_mean  mask_use_obs CountryCode\n",
      "date                                                                          \n",
      "2020-02-04           35       Georgia            0.0             1          GE\n",
      "2020-02-04          533       Georgia            0.0             1          GE\n",
      "2020-02-05          533       Georgia            0.0             1          GE\n",
      "2020-02-05           35       Georgia            0.0             1          GE\n",
      "2020-02-06           35       Georgia            0.0             1          GE\n",
      "...                 ...           ...            ...           ...         ...\n",
      "2022-12-29          533       Georgia            0.8             0          GE\n",
      "2022-12-30           35       Georgia            0.8             0          GE\n",
      "2022-12-30          533       Georgia            0.8             0          GE\n",
      "2022-12-31          533       Georgia            0.8             0          GE\n",
      "2022-12-31           35       Georgia            0.8             0          GE\n",
      "\n",
      "[2124 rows x 5 columns]\n"
     ]
    },
    {
     "name": "stderr",
     "output_type": "stream",
     "text": [
      "C:\\Users\\abull\\AppData\\Local\\Temp\\ipykernel_13660\\145876748.py:28: FutureWarning: reindexing with a non-unique Index is deprecated and will raise in a future version.\n",
      "  data_covid['mask_use_obs'] = data_mask['mask_use_obs']\n"
     ]
    },
    {
     "ename": "ValueError",
     "evalue": "cannot reindex on an axis with duplicate labels",
     "output_type": "error",
     "traceback": [
      "\u001b[1;31m---------------------------------------------------------------------------\u001b[0m",
      "\u001b[1;31mValueError\u001b[0m                                Traceback (most recent call last)",
      "Cell \u001b[1;32mIn [13], line 1\u001b[0m\n\u001b[1;32m----> 1\u001b[0m combined_data \u001b[39m=\u001b[39m combine_data_with_mask(data_1, data_2)\n",
      "Cell \u001b[1;32mIn [10], line 28\u001b[0m, in \u001b[0;36mcombine_data_with_mask\u001b[1;34m(data_1, data_2)\u001b[0m\n\u001b[0;32m     25\u001b[0m     \u001b[39mprint\u001b[39m(data_mask)\n\u001b[0;32m     26\u001b[0m     data_covid \u001b[39m=\u001b[39m data_covid\u001b[39m.\u001b[39mgroupby(data_covid\u001b[39m.\u001b[39mindex)\u001b[39m.\u001b[39mfirst()\n\u001b[1;32m---> 28\u001b[0m data_covid[\u001b[39m'\u001b[39;49m\u001b[39mmask_use_obs\u001b[39;49m\u001b[39m'\u001b[39;49m] \u001b[39m=\u001b[39m data_mask[\u001b[39m'\u001b[39m\u001b[39mmask_use_obs\u001b[39m\u001b[39m'\u001b[39m]\n\u001b[0;32m     29\u001b[0m data_covid[\u001b[39m'\u001b[39m\u001b[39mmask_use_mean\u001b[39m\u001b[39m'\u001b[39m] \u001b[39m=\u001b[39m data_mask[\u001b[39m'\u001b[39m\u001b[39mmask_use_mean\u001b[39m\u001b[39m'\u001b[39m]\n\u001b[0;32m     30\u001b[0m data_covid \u001b[39m=\u001b[39m data_covid\u001b[39m.\u001b[39mfillna(\u001b[39m0\u001b[39m)\n",
      "File \u001b[1;32mc:\\Users\\abull\\anaconda3\\envs\\vizdom\\lib\\site-packages\\pandas\\core\\frame.py:3977\u001b[0m, in \u001b[0;36mDataFrame.__setitem__\u001b[1;34m(self, key, value)\u001b[0m\n\u001b[0;32m   3974\u001b[0m     \u001b[39mself\u001b[39m\u001b[39m.\u001b[39m_setitem_array([key], value)\n\u001b[0;32m   3975\u001b[0m \u001b[39melse\u001b[39;00m:\n\u001b[0;32m   3976\u001b[0m     \u001b[39m# set column\u001b[39;00m\n\u001b[1;32m-> 3977\u001b[0m     \u001b[39mself\u001b[39;49m\u001b[39m.\u001b[39;49m_set_item(key, value)\n",
      "File \u001b[1;32mc:\\Users\\abull\\anaconda3\\envs\\vizdom\\lib\\site-packages\\pandas\\core\\frame.py:4171\u001b[0m, in \u001b[0;36mDataFrame._set_item\u001b[1;34m(self, key, value)\u001b[0m\n\u001b[0;32m   4161\u001b[0m \u001b[39mdef\u001b[39;00m \u001b[39m_set_item\u001b[39m(\u001b[39mself\u001b[39m, key, value) \u001b[39m-\u001b[39m\u001b[39m>\u001b[39m \u001b[39mNone\u001b[39;00m:\n\u001b[0;32m   4162\u001b[0m     \u001b[39m\"\"\"\u001b[39;00m\n\u001b[0;32m   4163\u001b[0m \u001b[39m    Add series to DataFrame in specified column.\u001b[39;00m\n\u001b[0;32m   4164\u001b[0m \n\u001b[1;32m   (...)\u001b[0m\n\u001b[0;32m   4169\u001b[0m \u001b[39m    ensure homogeneity.\u001b[39;00m\n\u001b[0;32m   4170\u001b[0m \u001b[39m    \"\"\"\u001b[39;00m\n\u001b[1;32m-> 4171\u001b[0m     value \u001b[39m=\u001b[39m \u001b[39mself\u001b[39;49m\u001b[39m.\u001b[39;49m_sanitize_column(value)\n\u001b[0;32m   4173\u001b[0m     \u001b[39mif\u001b[39;00m (\n\u001b[0;32m   4174\u001b[0m         key \u001b[39min\u001b[39;00m \u001b[39mself\u001b[39m\u001b[39m.\u001b[39mcolumns\n\u001b[0;32m   4175\u001b[0m         \u001b[39mand\u001b[39;00m value\u001b[39m.\u001b[39mndim \u001b[39m==\u001b[39m \u001b[39m1\u001b[39m\n\u001b[0;32m   4176\u001b[0m         \u001b[39mand\u001b[39;00m \u001b[39mnot\u001b[39;00m is_extension_array_dtype(value)\n\u001b[0;32m   4177\u001b[0m     ):\n\u001b[0;32m   4178\u001b[0m         \u001b[39m# broadcast across multiple columns if necessary\u001b[39;00m\n\u001b[0;32m   4179\u001b[0m         \u001b[39mif\u001b[39;00m \u001b[39mnot\u001b[39;00m \u001b[39mself\u001b[39m\u001b[39m.\u001b[39mcolumns\u001b[39m.\u001b[39mis_unique \u001b[39mor\u001b[39;00m \u001b[39misinstance\u001b[39m(\u001b[39mself\u001b[39m\u001b[39m.\u001b[39mcolumns, MultiIndex):\n",
      "File \u001b[1;32mc:\\Users\\abull\\anaconda3\\envs\\vizdom\\lib\\site-packages\\pandas\\core\\frame.py:4901\u001b[0m, in \u001b[0;36mDataFrame._sanitize_column\u001b[1;34m(self, value)\u001b[0m\n\u001b[0;32m   4899\u001b[0m     \u001b[39mreturn\u001b[39;00m _reindex_for_setitem(value, \u001b[39mself\u001b[39m\u001b[39m.\u001b[39mindex)\n\u001b[0;32m   4900\u001b[0m \u001b[39melif\u001b[39;00m is_dict_like(value):\n\u001b[1;32m-> 4901\u001b[0m     \u001b[39mreturn\u001b[39;00m _reindex_for_setitem(Series(value), \u001b[39mself\u001b[39;49m\u001b[39m.\u001b[39;49mindex)\n\u001b[0;32m   4903\u001b[0m \u001b[39mif\u001b[39;00m is_list_like(value):\n\u001b[0;32m   4904\u001b[0m     com\u001b[39m.\u001b[39mrequire_length_match(value, \u001b[39mself\u001b[39m\u001b[39m.\u001b[39mindex)\n",
      "File \u001b[1;32mc:\\Users\\abull\\anaconda3\\envs\\vizdom\\lib\\site-packages\\pandas\\core\\frame.py:12012\u001b[0m, in \u001b[0;36m_reindex_for_setitem\u001b[1;34m(value, index)\u001b[0m\n\u001b[0;32m  12008\u001b[0m \u001b[39mexcept\u001b[39;00m \u001b[39mValueError\u001b[39;00m \u001b[39mas\u001b[39;00m err:\n\u001b[0;32m  12009\u001b[0m     \u001b[39m# raised in MultiIndex.from_tuples, see test_insert_error_msmgs\u001b[39;00m\n\u001b[0;32m  12010\u001b[0m     \u001b[39mif\u001b[39;00m \u001b[39mnot\u001b[39;00m value\u001b[39m.\u001b[39mindex\u001b[39m.\u001b[39mis_unique:\n\u001b[0;32m  12011\u001b[0m         \u001b[39m# duplicate axis\u001b[39;00m\n\u001b[1;32m> 12012\u001b[0m         \u001b[39mraise\u001b[39;00m err\n\u001b[0;32m  12014\u001b[0m     \u001b[39mraise\u001b[39;00m \u001b[39mTypeError\u001b[39;00m(\n\u001b[0;32m  12015\u001b[0m         \u001b[39m\"\u001b[39m\u001b[39mincompatible index of inserted column with frame index\u001b[39m\u001b[39m\"\u001b[39m\n\u001b[0;32m  12016\u001b[0m     ) \u001b[39mfrom\u001b[39;00m \u001b[39merr\u001b[39;00m\n\u001b[0;32m  12017\u001b[0m \u001b[39mreturn\u001b[39;00m reindexed_value\n",
      "File \u001b[1;32mc:\\Users\\abull\\anaconda3\\envs\\vizdom\\lib\\site-packages\\pandas\\core\\frame.py:12007\u001b[0m, in \u001b[0;36m_reindex_for_setitem\u001b[1;34m(value, index)\u001b[0m\n\u001b[0;32m  12005\u001b[0m \u001b[39m# GH#4107\u001b[39;00m\n\u001b[0;32m  12006\u001b[0m \u001b[39mtry\u001b[39;00m:\n\u001b[1;32m> 12007\u001b[0m     reindexed_value \u001b[39m=\u001b[39m value\u001b[39m.\u001b[39;49mreindex(index)\u001b[39m.\u001b[39m_values\n\u001b[0;32m  12008\u001b[0m \u001b[39mexcept\u001b[39;00m \u001b[39mValueError\u001b[39;00m \u001b[39mas\u001b[39;00m err:\n\u001b[0;32m  12009\u001b[0m     \u001b[39m# raised in MultiIndex.from_tuples, see test_insert_error_msmgs\u001b[39;00m\n\u001b[0;32m  12010\u001b[0m     \u001b[39mif\u001b[39;00m \u001b[39mnot\u001b[39;00m value\u001b[39m.\u001b[39mindex\u001b[39m.\u001b[39mis_unique:\n\u001b[0;32m  12011\u001b[0m         \u001b[39m# duplicate axis\u001b[39;00m\n",
      "File \u001b[1;32mc:\\Users\\abull\\anaconda3\\envs\\vizdom\\lib\\site-packages\\pandas\\core\\series.py:5094\u001b[0m, in \u001b[0;36mSeries.reindex\u001b[1;34m(self, *args, **kwargs)\u001b[0m\n\u001b[0;32m   5090\u001b[0m         \u001b[39mraise\u001b[39;00m \u001b[39mTypeError\u001b[39;00m(\n\u001b[0;32m   5091\u001b[0m             \u001b[39m\"\u001b[39m\u001b[39m'\u001b[39m\u001b[39mindex\u001b[39m\u001b[39m'\u001b[39m\u001b[39m passed as both positional and keyword argument\u001b[39m\u001b[39m\"\u001b[39m\n\u001b[0;32m   5092\u001b[0m         )\n\u001b[0;32m   5093\u001b[0m     kwargs\u001b[39m.\u001b[39mupdate({\u001b[39m\"\u001b[39m\u001b[39mindex\u001b[39m\u001b[39m\"\u001b[39m: index})\n\u001b[1;32m-> 5094\u001b[0m \u001b[39mreturn\u001b[39;00m \u001b[39msuper\u001b[39m()\u001b[39m.\u001b[39mreindex(\u001b[39m*\u001b[39m\u001b[39m*\u001b[39mkwargs)\n",
      "File \u001b[1;32mc:\\Users\\abull\\anaconda3\\envs\\vizdom\\lib\\site-packages\\pandas\\core\\generic.py:5289\u001b[0m, in \u001b[0;36mNDFrame.reindex\u001b[1;34m(self, *args, **kwargs)\u001b[0m\n\u001b[0;32m   5286\u001b[0m     \u001b[39mreturn\u001b[39;00m \u001b[39mself\u001b[39m\u001b[39m.\u001b[39m_reindex_multi(axes, copy, fill_value)\n\u001b[0;32m   5288\u001b[0m \u001b[39m# perform the reindex on the axes\u001b[39;00m\n\u001b[1;32m-> 5289\u001b[0m \u001b[39mreturn\u001b[39;00m \u001b[39mself\u001b[39;49m\u001b[39m.\u001b[39;49m_reindex_axes(\n\u001b[0;32m   5290\u001b[0m     axes, level, limit, tolerance, method, fill_value, copy\n\u001b[0;32m   5291\u001b[0m )\u001b[39m.\u001b[39m__finalize__(\u001b[39mself\u001b[39m, method\u001b[39m=\u001b[39m\u001b[39m\"\u001b[39m\u001b[39mreindex\u001b[39m\u001b[39m\"\u001b[39m)\n",
      "File \u001b[1;32mc:\\Users\\abull\\anaconda3\\envs\\vizdom\\lib\\site-packages\\pandas\\core\\generic.py:5309\u001b[0m, in \u001b[0;36mNDFrame._reindex_axes\u001b[1;34m(self, axes, level, limit, tolerance, method, fill_value, copy)\u001b[0m\n\u001b[0;32m   5304\u001b[0m new_index, indexer \u001b[39m=\u001b[39m ax\u001b[39m.\u001b[39mreindex(\n\u001b[0;32m   5305\u001b[0m     labels, level\u001b[39m=\u001b[39mlevel, limit\u001b[39m=\u001b[39mlimit, tolerance\u001b[39m=\u001b[39mtolerance, method\u001b[39m=\u001b[39mmethod\n\u001b[0;32m   5306\u001b[0m )\n\u001b[0;32m   5308\u001b[0m axis \u001b[39m=\u001b[39m \u001b[39mself\u001b[39m\u001b[39m.\u001b[39m_get_axis_number(a)\n\u001b[1;32m-> 5309\u001b[0m obj \u001b[39m=\u001b[39m obj\u001b[39m.\u001b[39;49m_reindex_with_indexers(\n\u001b[0;32m   5310\u001b[0m     {axis: [new_index, indexer]},\n\u001b[0;32m   5311\u001b[0m     fill_value\u001b[39m=\u001b[39;49mfill_value,\n\u001b[0;32m   5312\u001b[0m     copy\u001b[39m=\u001b[39;49mcopy,\n\u001b[0;32m   5313\u001b[0m     allow_dups\u001b[39m=\u001b[39;49m\u001b[39mFalse\u001b[39;49;00m,\n\u001b[0;32m   5314\u001b[0m )\n\u001b[0;32m   5315\u001b[0m \u001b[39m# If we've made a copy once, no need to make another one\u001b[39;00m\n\u001b[0;32m   5316\u001b[0m copy \u001b[39m=\u001b[39m \u001b[39mFalse\u001b[39;00m\n",
      "File \u001b[1;32mc:\\Users\\abull\\anaconda3\\envs\\vizdom\\lib\\site-packages\\pandas\\core\\generic.py:5355\u001b[0m, in \u001b[0;36mNDFrame._reindex_with_indexers\u001b[1;34m(self, reindexers, fill_value, copy, allow_dups)\u001b[0m\n\u001b[0;32m   5352\u001b[0m     indexer \u001b[39m=\u001b[39m ensure_platform_int(indexer)\n\u001b[0;32m   5354\u001b[0m \u001b[39m# TODO: speed up on homogeneous DataFrame objects (see _reindex_multi)\u001b[39;00m\n\u001b[1;32m-> 5355\u001b[0m new_data \u001b[39m=\u001b[39m new_data\u001b[39m.\u001b[39;49mreindex_indexer(\n\u001b[0;32m   5356\u001b[0m     index,\n\u001b[0;32m   5357\u001b[0m     indexer,\n\u001b[0;32m   5358\u001b[0m     axis\u001b[39m=\u001b[39;49mbaxis,\n\u001b[0;32m   5359\u001b[0m     fill_value\u001b[39m=\u001b[39;49mfill_value,\n\u001b[0;32m   5360\u001b[0m     allow_dups\u001b[39m=\u001b[39;49mallow_dups,\n\u001b[0;32m   5361\u001b[0m     copy\u001b[39m=\u001b[39;49mcopy,\n\u001b[0;32m   5362\u001b[0m )\n\u001b[0;32m   5363\u001b[0m \u001b[39m# If we've made a copy once, no need to make another one\u001b[39;00m\n\u001b[0;32m   5364\u001b[0m copy \u001b[39m=\u001b[39m \u001b[39mFalse\u001b[39;00m\n",
      "File \u001b[1;32mc:\\Users\\abull\\anaconda3\\envs\\vizdom\\lib\\site-packages\\pandas\\core\\internals\\managers.py:729\u001b[0m, in \u001b[0;36mBaseBlockManager.reindex_indexer\u001b[1;34m(self, new_axis, indexer, axis, fill_value, allow_dups, copy, only_slice, use_na_proxy)\u001b[0m\n\u001b[0;32m    727\u001b[0m \u001b[39m# some axes don't allow reindexing with dups\u001b[39;00m\n\u001b[0;32m    728\u001b[0m \u001b[39mif\u001b[39;00m \u001b[39mnot\u001b[39;00m allow_dups:\n\u001b[1;32m--> 729\u001b[0m     \u001b[39mself\u001b[39;49m\u001b[39m.\u001b[39;49maxes[axis]\u001b[39m.\u001b[39;49m_validate_can_reindex(indexer)\n\u001b[0;32m    731\u001b[0m \u001b[39mif\u001b[39;00m axis \u001b[39m>\u001b[39m\u001b[39m=\u001b[39m \u001b[39mself\u001b[39m\u001b[39m.\u001b[39mndim:\n\u001b[0;32m    732\u001b[0m     \u001b[39mraise\u001b[39;00m \u001b[39mIndexError\u001b[39;00m(\u001b[39m\"\u001b[39m\u001b[39mRequested axis not found in manager\u001b[39m\u001b[39m\"\u001b[39m)\n",
      "File \u001b[1;32mc:\\Users\\abull\\anaconda3\\envs\\vizdom\\lib\\site-packages\\pandas\\core\\indexes\\base.py:4359\u001b[0m, in \u001b[0;36mIndex._validate_can_reindex\u001b[1;34m(self, indexer)\u001b[0m\n\u001b[0;32m   4357\u001b[0m \u001b[39m# trying to reindex on an axis with duplicates\u001b[39;00m\n\u001b[0;32m   4358\u001b[0m \u001b[39mif\u001b[39;00m \u001b[39mnot\u001b[39;00m \u001b[39mself\u001b[39m\u001b[39m.\u001b[39m_index_as_unique \u001b[39mand\u001b[39;00m \u001b[39mlen\u001b[39m(indexer):\n\u001b[1;32m-> 4359\u001b[0m     \u001b[39mraise\u001b[39;00m \u001b[39mValueError\u001b[39;00m(\u001b[39m\"\u001b[39m\u001b[39mcannot reindex on an axis with duplicate labels\u001b[39m\u001b[39m\"\u001b[39m)\n",
      "\u001b[1;31mValueError\u001b[0m: cannot reindex on an axis with duplicate labels"
     ]
    }
   ],
   "source": [
    "combined_data = combine_data_with_mask(data_1, data_2)\n",
    "# end_date = norway.date.max()\n",
    "# start_date = norway.date.min()\n",
    "# norway_mask = norway_mask[~(norway_mask['date'] > end_date)]\n",
    "# rest = norway_mask[~(norway_mask['date'] < start_date)]\n"
   ]
  },
  {
   "cell_type": "code",
   "execution_count": null,
   "metadata": {},
   "outputs": [],
   "source": [
    "# interpolated_data = country_based_interpolation(filtered_data)\n",
    "\n",
    "# attributes = list(get_our_world_in_data_attributes.keys())\n",
    "# attributes.remove('continent')\n",
    "# attributes.remove('iso_code')\n",
    "# attributes.remove('location')\n",
    "# attributes.remove('date')"
   ]
  },
  {
   "cell_type": "code",
   "execution_count": null,
   "metadata": {},
   "outputs": [],
   "source": [
    "\n",
    "# train_data = norway.sample(frac=0.6, random_state=12)\n",
    "# valid_and_test = norway.drop(train_data.index)\n",
    "# valid_data = valid_and_test.sample(frac=0.5, random_state=62)\n",
    "# test_data = valid_and_test.drop(valid_data.index)\n",
    "\n",
    "# x_train, x_test, y_train, y_test = train_test_split(x, y, test_size = 0.3, random_state = 100)\n",
    "# y = y.to_frame()"
   ]
  },
  {
   "cell_type": "code",
   "execution_count": null,
   "metadata": {},
   "outputs": [],
   "source": [
    "# y_train = pd.DataFrame(y_train)\n",
    "# x_train = pd.DataFrame(x_train)\n",
    "# x_test = pd.DataFrame(x_test)\n",
    "# x_train_sort=x_train.sort_values(by = 'date')\n",
    "# x_test_sort=x_test.sort_values(by = 'date')\n",
    "# y_train_sort=y_train.sort_values(by = 'date')"
   ]
  },
  {
   "cell_type": "code",
   "execution_count": null,
   "metadata": {},
   "outputs": [],
   "source": [
    "# y_train_shift = y_train_sort.shift(-90, axis=0)\n"
   ]
  },
  {
   "cell_type": "code",
   "execution_count": null,
   "metadata": {},
   "outputs": [],
   "source": [
    "# number_of_nans = y_train_shift.isnull().values.ravel().sum()\n",
    "\n",
    "# x_train_sort_dropped = x_train_sort.drop(x_train_sort.tail(number_of_nans).index)\n",
    "# x_train_sort_dropped = x_train_sort.iloc[:-number_of_nans, :]\n",
    "# y_train_shift_dropped = y_train_shift.dropna(axis=0)\n"
   ]
  },
  {
   "cell_type": "code",
   "execution_count": null,
   "metadata": {},
   "outputs": [],
   "source": [
    "# steps_ridge = [\n",
    "#     ('scalar', StandardScaler()),\n",
    "#     ('poly', PolynomialFeatures(degree=4)),\n",
    "#     ('model', Ridge(alpha=10, fit_intercept=True))\n",
    "# ]\n",
    "# steps_lasso = [\n",
    "#     ('scalar', StandardScaler()),\n",
    "#     ('poly', PolynomialFeatures(degree=2)),\n",
    "#     ('model', Lasso(alpha=0.3, fit_intercept=True))\n",
    "# ]\n",
    "# ridge_pipe = Pipeline(steps_ridge)\n",
    "# lasso_pipe = Pipeline(steps_lasso)\n",
    "\n",
    "# lasso_pipe.fit(x_train_sort_dropped, y_train_shift_dropped['new_cases'])\n",
    "# ridge_pipe.fit(x_train_sort_dropped, y_train_shift_dropped['new_cases'])\n",
    "\n",
    "# yhat0 = ridge_pipe.predict(x_train_sort)\n",
    "# yhat1 = ridge_pipe.predict(x_train_sort)"
   ]
  },
  {
   "cell_type": "markdown",
   "metadata": {},
   "source": []
  },
  {
   "cell_type": "code",
   "execution_count": null,
   "metadata": {},
   "outputs": [],
   "source": [
    "# cv = RepeatedKFold(n_splits=10, n_repeats=3, random_state=1)\n",
    "# lasso_cv = LassoCV(alphas=arange(0, 1, 0.01), cv=cv, n_jobs=-1)\n",
    "# lasso = Lasso(alpha=6.475e-7, max_iter=100000)\n",
    "# linear = LinearRegression() \n",
    "# ridge = Ridge(alpha=6.475e-7, max_iter=100000, solver='sag')\n",
    "# elastic = ElasticNet(alpha = 6.475e-7, max_iter=100000)\n",
    "# lasso_cv.fit(x_train_sort_dropped, y_train_shift_dropped['total_cases'])\n",
    "# lasso.fit(x_train_sort_dropped, y_train_shift_dropped['total_cases'])\n",
    "# linear.fit(x_train_sort_dropped, y_train_shift_dropped['total_cases'])\n",
    "# elastic.fit(x_train_sort_dropped, y_train_shift_dropped['total_cases'])\n",
    "# ridge.fit(x_train_sort_dropped, y_train_shift_dropped['total_cases']) \n",
    "# yhat0 = lasso_cv.predict(x_train_sort)\n",
    "# yhat1 = lasso.predict(x_train_sort)\n",
    "# yhat2 = linear.predict(x_train_sort)\n",
    "# yhat3 = ridge.predict(x_train_sort)\n",
    "# yhat4 = elastic.predict(x_train_sort)"
   ]
  },
  {
   "cell_type": "code",
   "execution_count": null,
   "metadata": {},
   "outputs": [],
   "source": [
    "\n",
    "# y_train_shift = y_train_shift.shift(90, freq='D')\n",
    "# prediction_1 = pd.Series(yhat0)\n",
    "# rolling_mean_1 = prediction_1.rolling(31).mean()\n",
    "# prediction_2 = pd.Series(yhat1)\n",
    "# rolling_mean_2 = prediction_2.rolling(60).mean()\n",
    "# fig = go.Figure()\n",
    "# fig.add_trace(go.Scatter(\n",
    "#     x=y_train_shift.index, y=yhat0,\n",
    "#     line_color='cyan',\n",
    "#     name='ridge',\n",
    "# ))\n",
    "# fig.add_trace(go.Scatter(\n",
    "#     x=y_train_shift.index, y=yhat1,\n",
    "#     line_color='green',\n",
    "#     name='lasso',\n",
    "# ))\n",
    "# fig.add_trace(go.Scatter(\n",
    "#     x=y_train_shift.index, y=rolling_mean_1,\n",
    "#     line_color='red',\n",
    "#     name='linear',\n",
    "# ))\n",
    "# fig.add_trace(go.Scatter(\n",
    "#     x=y_train_shift.index, y=rolling_mean_2,\n",
    "#     line_color='blue',\n",
    "#     name='ridge',\n",
    "# ))\n",
    "# fig.add_trace(go.Scatter(\n",
    "#     x=y_train_shift.index, y=yhat4,\n",
    "#     line_color='orange',\n",
    "#     name='elastic',\n",
    "# ))\n",
    "\n",
    "# fig.add_trace(go.Scatter(\n",
    "#     x=y.index, y=y['new_cases'],\n",
    "#     line_color='yellow',\n",
    "#     name='original',\n",
    "# ))\n",
    "\n",
    "# fig.update_traces(mode='lines')\n",
    "# fig\n",
    "# plt.figure(figsize=(20, 10))\n",
    "# plt.plot(x_train.index, y_train, 'b.',label = 'new death (train)')\n",
    "# plt.plot(x_train.index, y_pred_mlr_train, 'r.',label = 'new death (prediction)')\n",
    "# plt.legend()\n",
    "\n",
    "# # plt.figure(figsize=(20, 10))\n",
    "# plt.plot(x_test.index, y_test, 'bx',label = 'new death (test)')\n",
    "# plt.plot(x_test.index, y_pred_mlr, 'rx',label = 'new death (prediction test)')\n",
    "# plt.legend()\n"
   ]
  }
 ],
 "metadata": {
  "kernelspec": {
   "display_name": "Python 3.10.8 ('vizdom')",
   "language": "python",
   "name": "python3"
  },
  "language_info": {
   "codemirror_mode": {
    "name": "ipython",
    "version": 3
   },
   "file_extension": ".py",
   "mimetype": "text/x-python",
   "name": "python",
   "nbconvert_exporter": "python",
   "pygments_lexer": "ipython3",
   "version": "3.10.8"
  },
  "orig_nbformat": 4,
  "vscode": {
   "interpreter": {
    "hash": "ac89012e8bb3685a3c8181141826498473b833c565f12d25a1b4e17a2eeb2447"
   }
  }
 },
 "nbformat": 4,
 "nbformat_minor": 2
}
